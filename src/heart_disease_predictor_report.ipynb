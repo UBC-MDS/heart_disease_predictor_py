{
 "cells": [
  {
   "cell_type": "code",
   "execution_count": 27,
   "id": "c7815f82-902a-4f97-a036-df7451745342",
   "metadata": {},
   "outputs": [],
   "source": [
    "import os\n",
    "import requests\n",
    "import zipfile\n",
    "\n",
    "# Create the directory if it doesn't exist\n",
    "raw_dir = \"../data/raw\"\n",
    "if not os.path.exists(raw_dir):\n",
    "    os.makedirs(raw_dir)\n",
    "\n",
    "# Download data as zip\n",
    "url = \"https://archive.ics.uci.edu/static/public/45/heart+disease.zip\"\n",
    "response = requests.get(url)\n",
    "\n",
    "# Save the zip file to the specified directory\n",
    "zip_path = os.path.join(raw_dir, \"heart+disease.zip\")\n",
    "with open(zip_path, 'wb') as f:\n",
    "    f.write(response.content)\n",
    "\n",
    "# Extract the contents of the zip file\n",
    "with zipfile.ZipFile(zip_path, 'r') as zip_ref:\n",
    "    zip_ref.extractall(raw_dir)"
   ]
  },
  {
   "cell_type": "code",
   "execution_count": 28,
   "id": "ec4badea-d877-4da7-b54e-ce0fa7be76dd",
   "metadata": {},
   "outputs": [],
   "source": [
    "import numpy as np\n",
    "import pandas as pd\n",
    "# read in data\n",
    "colnames = [\n",
    "    \"age\",       \n",
    "    \"sex\",       \n",
    "    \"cp\",        \n",
    "    \"trestbps\",  \n",
    "    \"chol\",      \n",
    "    \"fbs\",       \n",
    "    \"restecg\",   \n",
    "    \"thalach\",   \n",
    "    \"exang\",     \n",
    "    \"oldpeak\",   \n",
    "    \"slope\",     \n",
    "    \"ca\",        \n",
    "    \"thal\",      \n",
    "    \"num\"  \n",
    "]\n",
    "\n",
    "heart_disease = pd.read_csv(\"../data/raw/processed.cleveland.data\", names=colnames, header=None)\n",
    "# replace missing values with nan for ease of computational handling\n",
    "heart_disease.replace('?', np.nan, inplace=True)"
   ]
  },
  {
   "cell_type": "code",
   "execution_count": 29,
   "id": "7f410924-5add-4cee-a0ff-e96602683aca",
   "metadata": {},
   "outputs": [],
   "source": [
    "from sklearn import set_config\n",
    "from sklearn.model_selection import train_test_split\n",
    "\n",
    "# scale and split into train & test\n",
    "np.random.seed(522)\n",
    "set_config(transform_output=\"pandas\")\n",
    "\n",
    "# create the split\n",
    "heart_disease_train, heart_disease_test = train_test_split(\n",
    "    heart_disease, train_size=0.70, stratify=heart_disease[\"num\"]\n",
    ")\n",
    "# Create the directory if it doesn't exist\n",
    "processed_dir = \"../data/processed\"\n",
    "if not os.path.exists(processed_dir):\n",
    "    os.makedirs(processed_dir)\n",
    "heart_disease_train.to_csv(\"../data/processed/heart_disease_train.csv\")\n",
    "heart_disease_test.to_csv(\"../data/processed/heart_disease_test.csv\")"
   ]
  },
  {
   "cell_type": "code",
   "execution_count": 30,
   "id": "bc6f9963-7730-4261-b810-aad43488f50f",
   "metadata": {},
   "outputs": [],
   "source": [
    "from sklearn.preprocessing import StandardScaler\n",
    "from sklearn.impute import SimpleImputer\n",
    "from sklearn.compose import make_column_transformer, make_column_selector\n",
    "heart_disease_preprocessor = make_column_transformer(\n",
    "    (SimpleImputer(strategy=\"most_frequent\"), ['ca', 'thal']),\n",
    "    (StandardScaler(), make_column_selector(dtype_include='number')),\n",
    "    remainder='passthrough',\n",
    "    verbose_feature_names_out=False\n",
    ")\n",
    "\n",
    "heart_disease_preprocessor.fit(heart_disease_train)\n",
    "scaled_heart_disease_train = heart_disease_preprocessor.transform(heart_disease_train)\n",
    "scaled_heart_disease_test = heart_disease_preprocessor.transform(heart_disease_test)\n",
    "\n",
    "scaled_heart_disease_train.to_csv(\"../data/processed/scaled_heart_disease_train.csv\")\n",
    "scaled_heart_disease_test.to_csv(\"../data/processed/scaled_heart_disease_test.csv\")"
   ]
  },
  {
   "cell_type": "code",
   "execution_count": null,
   "id": "a1751d61-66ff-431d-8f8b-1b2cd9aa98b8",
   "metadata": {},
   "outputs": [],
   "source": []
  }
 ],
 "metadata": {
  "kernelspec": {
   "display_name": "Python [conda env:base] *",
   "language": "python",
   "name": "conda-base-py"
  },
  "language_info": {
   "codemirror_mode": {
    "name": "ipython",
    "version": 3
   },
   "file_extension": ".py",
   "mimetype": "text/x-python",
   "name": "python",
   "nbconvert_exporter": "python",
   "pygments_lexer": "ipython3",
   "version": "3.11.9"
  }
 },
 "nbformat": 4,
 "nbformat_minor": 5
}
